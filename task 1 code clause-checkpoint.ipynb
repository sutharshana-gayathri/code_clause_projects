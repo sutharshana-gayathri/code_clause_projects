{
 "cells": [
  {
   "cell_type": "code",
   "execution_count": null,
   "id": "4e1f8c65",
   "metadata": {},
   "outputs": [],
   "source": [
    "import numpy as np                     #numpy library\n",
    "import pandas as pd                    #pandas library\n",
    "import matplotlib.pyplot as plt        #pyplot\n",
    "import seaborn as sns                  #seaborn\n",
    "import plotly.express as px            #for visualization"
   ]
  },
  {
   "cell_type": "code",
   "execution_count": null,
   "id": "7f044cb2",
   "metadata": {},
   "outputs": [],
   "source": [
    "df = pd.read_csv(\"creditcard.csv (6).zip\")\n",
    "df\n"
   ]
  },
  {
   "cell_type": "code",
   "execution_count": null,
   "id": "41865d7a",
   "metadata": {},
   "outputs": [],
   "source": [
    "df.isnull().sum()"
   ]
  },
  {
   "cell_type": "code",
   "execution_count": null,
   "id": "5554f95c",
   "metadata": {},
   "outputs": [],
   "source": [
    "df.shape"
   ]
  },
  {
   "cell_type": "code",
   "execution_count": null,
   "id": "17b1f419",
   "metadata": {},
   "outputs": [],
   "source": [
    "df.info()\n"
   ]
  },
  {
   "cell_type": "code",
   "execution_count": null,
   "id": "aca0a062",
   "metadata": {},
   "outputs": [],
   "source": [
    "df.head(5) "
   ]
  },
  {
   "cell_type": "code",
   "execution_count": null,
   "id": "30393049",
   "metadata": {},
   "outputs": [],
   "source": [
    "df.tail()"
   ]
  },
  {
   "cell_type": "code",
   "execution_count": null,
   "id": "6711d328",
   "metadata": {},
   "outputs": [],
   "source": [
    "df.describe()"
   ]
  },
  {
   "cell_type": "code",
   "execution_count": null,
   "id": "2e581d92",
   "metadata": {},
   "outputs": [],
   "source": [
    "df.nunique()\n"
   ]
  },
  {
   "cell_type": "code",
   "execution_count": null,
   "id": "8e132289",
   "metadata": {},
   "outputs": [],
   "source": [
    "import seaborn\n",
    "correlation = df.corr ()\n",
    "fig=plt.figure(figsize=(14,8))\n",
    "seaborn.heatmap(correlation,annot=True)\n",
    "plt.show()"
   ]
  },
  {
   "cell_type": "code",
   "execution_count": null,
   "id": "068ac603",
   "metadata": {},
   "outputs": [],
   "source": [
    "#import seaborn as sns                             #seaborn\n",
    "#sns.pairplot(df)    #pairplots using seaborn"
   ]
  },
  {
   "cell_type": "code",
   "execution_count": null,
   "id": "f18666b0",
   "metadata": {},
   "outputs": [],
   "source": [
    "X = df.drop(['Class'], axis=1)\n",
    "y = df['Class']\n",
    "print(\"okay\")"
   ]
  },
  {
   "cell_type": "code",
   "execution_count": null,
   "id": "78be7199",
   "metadata": {},
   "outputs": [],
   "source": [
    "from sklearn.model_selection import train_test_split\n",
    "X_train, X_test, y_train, y_test = train_test_split(X, y, test_size = 0.33,random_state = 42)"
   ]
  },
  {
   "cell_type": "code",
   "execution_count": null,
   "id": "9c997543",
   "metadata": {},
   "outputs": [],
   "source": [
    "X_train.shape, X_test.shape\n"
   ]
  },
  {
   "cell_type": "code",
   "execution_count": null,
   "id": "c78e470c",
   "metadata": {},
   "outputs": [],
   "source": [
    " X_train.dtypes"
   ]
  },
  {
   "cell_type": "code",
   "execution_count": null,
   "id": "6d804624",
   "metadata": {},
   "outputs": [],
   "source": [
    "#Import Libraries file\n",
    "import pandas as pd\n",
    "import numpy as np\n",
    "import matplotlib.pyplot as plt\n",
    "import seaborn as sns\n",
    "from sklearn.model_selection import train_test_split #Train Test Split\n",
    "from sklearn.naive_bayes import GaussianNB # Naive Bayes Classifier\n",
    "from sklearn import preprocessing # Label Encoder\n",
    "from sklearn.neighbors import KNeighborsClassifier # KNN Classsifiers"
   ]
  },
  {
   "cell_type": "code",
   "execution_count": null,
   "id": "a8ce4186",
   "metadata": {},
   "outputs": [],
   "source": [
    "#Train Test split\n",
    "x = df[['Time','V1','V2','V3','V4','V5','V6','V7','V8','V9','V10','V11','V12','V13','V14','V15','V16','V17','V18','V19','V20','V21','V22','V23','V24','V25','V26','V27','V28','Amount']]\n",
    "y = df['Class']\n",
    "x_train, x_test, y_train, y_test = train_test_split(x,y, test_size=0.30,random_state=0)\n",
    "x_train.shape "
   ]
  },
  {
   "cell_type": "code",
   "execution_count": null,
   "id": "dbe969ff",
   "metadata": {},
   "outputs": [],
   "source": [
    "# import Random Forest classifier\n",
    "from sklearn.ensemble import RandomForestClassifier\n",
    "\n",
    "# instantiate the classifier\n",
    "rfc = RandomForestClassifier(random_state=0)\n",
    "\n",
    "# fit the model\n",
    "rfc.fit(x_train, y_train)\n",
    "\n",
    "# Predict the Test set results \n",
    "y_pred = rfc.predict(x_test)\n",
    "\n",
    "# Check accuracy score\n",
    "from sklearn.metrics import accuracy_score\n",
    "\n",
    "print('Model accuracy score with 10 decision-trees : {0:0.4f}'.format(accuracy_score(y_test, y_pred)))"
   ]
  },
  {
   "cell_type": "code",
   "execution_count": null,
   "id": "462bb526",
   "metadata": {},
   "outputs": [],
   "source": [
    "# create the classifier with n_estimators = 100\n",
    "\n",
    "clf = RandomForestClassifier(n_estimators=100, random_state=0)\n",
    "\n",
    "\n",
    "\n",
    "# fit the model to the training set\n",
    "\n",
    "clf.fit(x_train, y_train)"
   ]
  },
  {
   "cell_type": "code",
   "execution_count": null,
   "id": "500c90dc",
   "metadata": {},
   "outputs": [],
   "source": [
    "feature_scores = pd.Series(clf.feature_importances_, index=x_train.columns).sort_values(ascending=False)\n",
    "\n",
    "feature_scores"
   ]
  },
  {
   "cell_type": "code",
   "execution_count": null,
   "id": "68ea2818",
   "metadata": {},
   "outputs": [],
   "source": [
    "# Creating a seaborn bar plot\n",
    "sns.barplot(x=feature_scores, y=feature_scores.index)\n",
    "# Add labels to the graph\n",
    "plt.xlabel('Feature Importance Score')\n",
    "\n",
    "plt.ylabel('Features')\n",
    "\n",
    "# Add title to the graph\n",
    "\n",
    "plt.title(\"Visualizing Important Features\")\n",
    "# Visualize the graph\n",
    "plt.show()"
   ]
  },
  {
   "cell_type": "code",
   "execution_count": null,
   "id": "57f64277",
   "metadata": {},
   "outputs": [],
   "source": []
  }
 ],
 "metadata": {
  "kernelspec": {
   "display_name": "Python 3 (ipykernel)",
   "language": "python",
   "name": "python3"
  },
  "language_info": {
   "codemirror_mode": {
    "name": "ipython",
    "version": 3
   },
   "file_extension": ".py",
   "mimetype": "text/x-python",
   "name": "python",
   "nbconvert_exporter": "python",
   "pygments_lexer": "ipython3",
   "version": "3.10.9"
  }
 },
 "nbformat": 4,
 "nbformat_minor": 5
}
